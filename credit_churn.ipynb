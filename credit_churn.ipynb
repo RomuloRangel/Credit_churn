{
 "cells": [
  {
   "cell_type": "markdown",
   "metadata": {},
   "source": [
    "# Analise De Churn Aplicando ML para predição"
   ]
  },
  {
   "cell_type": "markdown",
   "metadata": {},
   "source": [
    "## Importação das bibliotecas necessarias.\n",
    "\n",
    "Na etapa abaixo optei por fazer a importação direto da API da UCI  \n",
    "( link:https://archive.ics.uci.edu/dataset/350/default+of+credit+card+clients )"
   ]
  },
  {
   "cell_type": "code",
   "execution_count": 16,
   "metadata": {},
   "outputs": [],
   "source": [
    "from ucimlrepo import fetch_ucirepo\n",
    "import pandas as pd"
   ]
  },
  {
   "cell_type": "code",
   "execution_count": 17,
   "metadata": {},
   "outputs": [],
   "source": [
    "dataset = fetch_ucirepo(id=350)\n",
    "# data (as pandas dataframes) \n",
    "features = dataset.data.features \n",
    "target = dataset.data.targets \n",
    "\n"
   ]
  },
  {
   "cell_type": "code",
   "execution_count": 19,
   "metadata": {},
   "outputs": [
    {
     "name": "stdout",
     "output_type": "stream",
     "text": [
      "       X1  X2  X3  X4  X5  X6  X7  X8  X9  X10  ...    X14    X15    X16  \\\n",
      "0   20000   2   2   1  24   2   2  -1  -1   -2  ...    689      0      0   \n",
      "1  120000   2   2   2  26  -1   2   0   0    0  ...   2682   3272   3455   \n",
      "2   90000   2   2   2  34   0   0   0   0    0  ...  13559  14331  14948   \n",
      "3   50000   2   2   1  37   0   0   0   0    0  ...  49291  28314  28959   \n",
      "\n",
      "     X17   X18   X19   X20   X21   X22   X23  \n",
      "0      0     0   689     0     0     0     0  \n",
      "1   3261     0  1000  1000  1000     0  2000  \n",
      "2  15549  1518  1500  1000  1000  1000  5000  \n",
      "3  29547  2000  2019  1200  1100  1069  1000  \n",
      "\n",
      "[4 rows x 23 columns]\n"
     ]
    }
   ],
   "source": [
    "print(features.head(4))"
   ]
  }
 ],
 "metadata": {
  "kernelspec": {
   "display_name": ".venv",
   "language": "python",
   "name": "python3"
  },
  "language_info": {
   "codemirror_mode": {
    "name": "ipython",
    "version": 3
   },
   "file_extension": ".py",
   "mimetype": "text/x-python",
   "name": "python",
   "nbconvert_exporter": "python",
   "pygments_lexer": "ipython3",
   "version": "3.13.1"
  }
 },
 "nbformat": 4,
 "nbformat_minor": 2
}
